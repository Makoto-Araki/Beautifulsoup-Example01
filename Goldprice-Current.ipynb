{
 "cells": [
  {
   "cell_type": "markdown",
   "metadata": {},
   "source": [
    "# 金価格現在\n",
    "田中貴金属(株)の[**HP**](https://gold.tanaka.co.jp/commodity/souba/d-gold.php)から現在の店頭買取価格(税込)を**Jupyter Notebook**を使用して取得\n",
    "![金価格現在](./Goldprice-Current.png)"
   ]
  },
  {
   "cell_type": "code",
   "execution_count": 25,
   "metadata": {},
   "outputs": [
    {
     "name": "stdout",
     "output_type": "stream",
     "text": [
      "8,429 円\n"
     ]
    }
   ],
   "source": [
    "# ライブラリのインポート\n",
    "import requests\n",
    "from bs4 import BeautifulSoup\n",
    "\n",
    "# リクエスト送信\n",
    "url = 'https://gold.tanaka.co.jp/commodity/souba/d-gold.php'\n",
    "res = requests.get(url)\n",
    "\n",
    "# レスポンス解析\n",
    "parser = 'html.parser'\n",
    "soup = BeautifulSoup(res.text, parser)\n",
    "\n",
    "# 店頭買取価格(税込み)を取得\n",
    "price = soup.select('#metal_price .gold .purchase_tax')[0].string\n",
    "print(price)"
   ]
  },
  {
   "cell_type": "code",
   "execution_count": null,
   "metadata": {},
   "outputs": [],
   "source": []
  }
 ],
 "metadata": {
  "kernelspec": {
   "display_name": "Python 3",
   "language": "python",
   "name": "python3"
  },
  "language_info": {
   "codemirror_mode": {
    "name": "ipython",
    "version": 3
   },
   "file_extension": ".py",
   "mimetype": "text/x-python",
   "name": "python",
   "nbconvert_exporter": "python",
   "pygments_lexer": "ipython3",
   "version": "3.8.3"
  }
 },
 "nbformat": 4,
 "nbformat_minor": 4
}
